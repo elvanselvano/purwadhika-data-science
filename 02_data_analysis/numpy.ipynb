{
  "nbformat": 4,
  "nbformat_minor": 0,
  "metadata": {
    "colab": {
      "name": "Numpy-Purwadhika.ipynb",
      "provenance": []
    },
    "kernelspec": {
      "name": "python3",
      "display_name": "Python 3"
    },
    "language_info": {
      "name": "python"
    }
  },
  "cells": [
    {
      "cell_type": "code",
      "metadata": {
        "id": "yEbaOwcKK-do"
      },
      "source": [
        "import numpy as np"
      ],
      "execution_count": 1,
      "outputs": []
    },
    {
      "cell_type": "code",
      "metadata": {
        "colab": {
          "base_uri": "https://localhost:8080/"
        },
        "id": "K7tW55NqOCJM",
        "outputId": "f9c34888-ecc8-40e7-a257-b910d9e12b6f"
      },
      "source": [
        "arr = [1, 2, 3]\n",
        "matrix = [[1, 2], [3, 4]]\n",
        "\n",
        "a = np.array(arr)\n",
        "b = np.array(matrix)\n",
        "\n",
        "print(arr, type(arr))\n",
        "print(a, type(a))\n",
        "\n",
        "print(matrix, type(matrix))\n",
        "print(b, type(b))"
      ],
      "execution_count": 8,
      "outputs": [
        {
          "output_type": "stream",
          "text": [
            "[1, 2, 3] <class 'list'>\n",
            "[1 2 3] <class 'numpy.ndarray'>\n",
            "[[1, 2], [3, 4]] <class 'list'>\n",
            "[[1 2]\n",
            " [3 4]] <class 'numpy.ndarray'>\n"
          ],
          "name": "stdout"
        }
      ]
    },
    {
      "cell_type": "code",
      "metadata": {
        "colab": {
          "base_uri": "https://localhost:8080/"
        },
        "id": "7qp6orviQ_7a",
        "outputId": "444a9813-a947-40e3-cd4a-425bd9bbbbcb"
      },
      "source": [
        "np.arange(10, 20, 3) # start, stop, step"
      ],
      "execution_count": 13,
      "outputs": [
        {
          "output_type": "execute_result",
          "data": {
            "text/plain": [
              "array([10, 13, 16, 19])"
            ]
          },
          "metadata": {
            "tags": []
          },
          "execution_count": 13
        }
      ]
    },
    {
      "cell_type": "code",
      "metadata": {
        "colab": {
          "base_uri": "https://localhost:8080/"
        },
        "id": "gRtKfgS2OgPK",
        "outputId": "ce3949e8-4ac5-4389-9cbe-70526191dbeb"
      },
      "source": [
        "np.ones(10)"
      ],
      "execution_count": 9,
      "outputs": [
        {
          "output_type": "execute_result",
          "data": {
            "text/plain": [
              "array([1., 1., 1., 1., 1., 1., 1., 1., 1., 1.])"
            ]
          },
          "metadata": {
            "tags": []
          },
          "execution_count": 9
        }
      ]
    },
    {
      "cell_type": "code",
      "metadata": {
        "colab": {
          "base_uri": "https://localhost:8080/"
        },
        "id": "dgAJINz7Qk2a",
        "outputId": "5c1f3d46-895f-4624-a357-b4cddb6a4da7"
      },
      "source": [
        "np.ones((4,4))"
      ],
      "execution_count": 11,
      "outputs": [
        {
          "output_type": "execute_result",
          "data": {
            "text/plain": [
              "array([[1., 1., 1., 1.],\n",
              "       [1., 1., 1., 1.],\n",
              "       [1., 1., 1., 1.],\n",
              "       [1., 1., 1., 1.]])"
            ]
          },
          "metadata": {
            "tags": []
          },
          "execution_count": 11
        }
      ]
    },
    {
      "cell_type": "code",
      "metadata": {
        "colab": {
          "base_uri": "https://localhost:8080/"
        },
        "id": "dtfQRGfkQl1-",
        "outputId": "c3c43cd6-f4a7-42bf-fed3-6704861d4471"
      },
      "source": [
        "np.eye(4) # matrix identitas (diagonal)"
      ],
      "execution_count": 12,
      "outputs": [
        {
          "output_type": "execute_result",
          "data": {
            "text/plain": [
              "array([[1., 0., 0., 0.],\n",
              "       [0., 1., 0., 0.],\n",
              "       [0., 0., 1., 0.],\n",
              "       [0., 0., 0., 1.]])"
            ]
          },
          "metadata": {
            "tags": []
          },
          "execution_count": 12
        }
      ]
    },
    {
      "cell_type": "code",
      "metadata": {
        "colab": {
          "base_uri": "https://localhost:8080/"
        },
        "id": "lFnssRieQq1e",
        "outputId": "3bcc69ff-cf37-4f64-80d9-2a8d7fb172d4"
      },
      "source": [
        "np.linspace(0, 10, 3) # start, end, totalnumber"
      ],
      "execution_count": 14,
      "outputs": [
        {
          "output_type": "execute_result",
          "data": {
            "text/plain": [
              "array([ 0.,  5., 10.])"
            ]
          },
          "metadata": {
            "tags": []
          },
          "execution_count": 14
        }
      ]
    },
    {
      "cell_type": "code",
      "metadata": {
        "colab": {
          "base_uri": "https://localhost:8080/"
        },
        "id": "kuVzmCNzRI0i",
        "outputId": "f14f8370-5aaf-428a-f10b-da3079c32f36"
      },
      "source": [
        "np.random.rand(5, 5) # random"
      ],
      "execution_count": 17,
      "outputs": [
        {
          "output_type": "execute_result",
          "data": {
            "text/plain": [
              "array([[0.25189228, 0.23656491, 0.26310002, 0.37981219, 0.33317855],\n",
              "       [0.09869564, 0.89314593, 0.42657834, 0.18869654, 0.98690957],\n",
              "       [0.45925523, 0.33671293, 0.88167405, 0.64239376, 0.35822336],\n",
              "       [0.91661897, 0.16617971, 0.00307706, 0.62555302, 0.35562628],\n",
              "       [0.88920536, 0.70594365, 0.47652866, 0.81413126, 0.16911126]])"
            ]
          },
          "metadata": {
            "tags": []
          },
          "execution_count": 17
        }
      ]
    },
    {
      "cell_type": "code",
      "metadata": {
        "colab": {
          "base_uri": "https://localhost:8080/"
        },
        "id": "u4sUIBORR-cB",
        "outputId": "481715f4-2a4b-48e8-aacb-862d43f5815f"
      },
      "source": [
        "np.random.randint()"
      ],
      "execution_count": 19,
      "outputs": [
        {
          "output_type": "execute_result",
          "data": {
            "text/plain": [
              "array([1, 5, 9, 0, 8])"
            ]
          },
          "metadata": {
            "tags": []
          },
          "execution_count": 19
        }
      ]
    },
    {
      "cell_type": "code",
      "metadata": {
        "colab": {
          "base_uri": "https://localhost:8080/"
        },
        "id": "b4RC5OiGXPg0",
        "outputId": "209f980d-839d-45fe-ca34-1ee87f403e33"
      },
      "source": [
        "b = np.arange(11, 20)\n",
        "b = b.reshape(3, -1)\n",
        "b"
      ],
      "execution_count": 20,
      "outputs": [
        {
          "output_type": "execute_result",
          "data": {
            "text/plain": [
              "array([[11, 12, 13],\n",
              "       [14, 15, 16],\n",
              "       [17, 18, 19]])"
            ]
          },
          "metadata": {
            "tags": []
          },
          "execution_count": 20
        }
      ]
    },
    {
      "cell_type": "code",
      "metadata": {
        "colab": {
          "base_uri": "https://localhost:8080/"
        },
        "id": "0KDgp2W1jlVy",
        "outputId": "342c2411-b8ad-40e7-9f34-630763013bfa"
      },
      "source": [
        "np.zeros((2,3))"
      ],
      "execution_count": 27,
      "outputs": [
        {
          "output_type": "execute_result",
          "data": {
            "text/plain": [
              "array([[0., 0., 0.],\n",
              "       [0., 0., 0.]])"
            ]
          },
          "metadata": {
            "tags": []
          },
          "execution_count": 27
        }
      ]
    },
    {
      "cell_type": "code",
      "metadata": {
        "colab": {
          "base_uri": "https://localhost:8080/"
        },
        "id": "xR7UsapzexDC",
        "outputId": "6dfdf428-a12f-45ac-b2a4-c64feaefb4ca"
      },
      "source": [
        "a = np.array([1, 2, 3])\n",
        "\n",
        "print(a)\n",
        "print(\"a's ndim {}\".format(a.ndim))\n",
        "print(\"a's shape {}\".format(a.shape))\n",
        "print(\"a's size {}\".format(a.size))\n",
        "print(\"a's dtype {}\".format(a.dtype))\n",
        "print(\"a's itemsize {}\".format(a.itemsize))"
      ],
      "execution_count": 21,
      "outputs": [
        {
          "output_type": "stream",
          "text": [
            "[1 2 3]\n",
            "a's ndim 1\n",
            "a's shape (3,)\n",
            "a's size 3\n",
            "a's dtype int64\n",
            "a's itemsize 8\n"
          ],
          "name": "stdout"
        }
      ]
    },
    {
      "cell_type": "code",
      "metadata": {
        "colab": {
          "base_uri": "https://localhost:8080/"
        },
        "id": "Ctic0WIyhsh8",
        "outputId": "eba0d00d-7647-499f-cdf3-b76fff1697c3"
      },
      "source": [
        "a.max()"
      ],
      "execution_count": 23,
      "outputs": [
        {
          "output_type": "execute_result",
          "data": {
            "text/plain": [
              "3"
            ]
          },
          "metadata": {
            "tags": []
          },
          "execution_count": 23
        }
      ]
    },
    {
      "cell_type": "code",
      "metadata": {
        "colab": {
          "base_uri": "https://localhost:8080/"
        },
        "id": "7ez2Yn0yhxgB",
        "outputId": "7153083e-d785-4917-f0a0-befd542f39f4"
      },
      "source": [
        "a.argmax()"
      ],
      "execution_count": 24,
      "outputs": [
        {
          "output_type": "execute_result",
          "data": {
            "text/plain": [
              "2"
            ]
          },
          "metadata": {
            "tags": []
          },
          "execution_count": 24
        }
      ]
    },
    {
      "cell_type": "code",
      "metadata": {
        "colab": {
          "base_uri": "https://localhost:8080/"
        },
        "id": "id16KHBYhyut",
        "outputId": "734e3bbb-8511-4164-def1-f79cecd2ab07"
      },
      "source": [
        "a.min()"
      ],
      "execution_count": 25,
      "outputs": [
        {
          "output_type": "execute_result",
          "data": {
            "text/plain": [
              "1"
            ]
          },
          "metadata": {
            "tags": []
          },
          "execution_count": 25
        }
      ]
    },
    {
      "cell_type": "code",
      "metadata": {
        "colab": {
          "base_uri": "https://localhost:8080/"
        },
        "id": "pwIxqDhthzkp",
        "outputId": "0d4b1353-eadb-45a8-c102-9515460888c1"
      },
      "source": [
        "a.argmin()"
      ],
      "execution_count": 26,
      "outputs": [
        {
          "output_type": "execute_result",
          "data": {
            "text/plain": [
              "0"
            ]
          },
          "metadata": {
            "tags": []
          },
          "execution_count": 26
        }
      ]
    },
    {
      "cell_type": "code",
      "metadata": {
        "colab": {
          "base_uri": "https://localhost:8080/"
        },
        "id": "4fCj7mzLkViU",
        "outputId": "f4b27fc3-85b2-4384-c72d-e6cd952ac214"
      },
      "source": [
        "sample"
      ],
      "execution_count": 38,
      "outputs": [
        {
          "output_type": "execute_result",
          "data": {
            "text/plain": [
              "array([[20,  4, 31,  8, 37, 24],\n",
              "       [28, 27, 34, 34, 11, 17],\n",
              "       [20, 17,  7, 22, 37, 24],\n",
              "       [31, 10, 44, 28, 38,  9],\n",
              "       [49, 11, 46, 31, 43, 39],\n",
              "       [36,  3, 19, 45, 28, 42]])"
            ]
          },
          "metadata": {
            "tags": []
          },
          "execution_count": 38
        }
      ]
    },
    {
      "cell_type": "code",
      "metadata": {
        "colab": {
          "base_uri": "https://localhost:8080/"
        },
        "id": "wO7klknRkWlr",
        "outputId": "ecae0417-1617-44e6-e7be-9ea2906bc531"
      },
      "source": [
        "numbers = np.arange(1, 15)\n",
        "numbers"
      ],
      "execution_count": 44,
      "outputs": [
        {
          "output_type": "execute_result",
          "data": {
            "text/plain": [
              "array([ 1,  2,  3,  4,  5,  6,  7,  8,  9, 10, 11, 12, 13, 14])"
            ]
          },
          "metadata": {
            "tags": []
          },
          "execution_count": 44
        }
      ]
    },
    {
      "cell_type": "code",
      "metadata": {
        "colab": {
          "base_uri": "https://localhost:8080/"
        },
        "id": "Adg5R-C_lVBa",
        "outputId": "9164aca7-2bd3-469a-c2e7-c9efb08106f4"
      },
      "source": [
        "print(numbers[2:])\n",
        "print(numbers[:4])\n",
        "print(numbers[0:10:2])"
      ],
      "execution_count": 47,
      "outputs": [
        {
          "output_type": "stream",
          "text": [
            "[ 3  4  5  6  7  8  9 10 11 12 13 14]\n",
            "[1 2 3 4]\n",
            "[1 3 5 7 9]\n"
          ],
          "name": "stdout"
        }
      ]
    },
    {
      "cell_type": "code",
      "metadata": {
        "colab": {
          "base_uri": "https://localhost:8080/"
        },
        "id": "w4xov5t-lvIK",
        "outputId": "504f4be1-96ba-4135-c8bd-f2ab9422a773"
      },
      "source": [
        "numbers[0:4] = 100\n",
        "numbers"
      ],
      "execution_count": 48,
      "outputs": [
        {
          "output_type": "execute_result",
          "data": {
            "text/plain": [
              "array([100, 100, 100, 100,   5,   6,   7,   8,   9,  10,  11,  12,  13,\n",
              "        14])"
            ]
          },
          "metadata": {
            "tags": []
          },
          "execution_count": 48
        }
      ]
    },
    {
      "cell_type": "code",
      "metadata": {
        "colab": {
          "base_uri": "https://localhost:8080/"
        },
        "id": "A3DFjEnmoExt",
        "outputId": "77fadf36-9414-400e-c755-7ac30bfedbe4"
      },
      "source": [
        "[numbers[3], numbers[8]]"
      ],
      "execution_count": 54,
      "outputs": [
        {
          "output_type": "execute_result",
          "data": {
            "text/plain": [
              "[100, 9]"
            ]
          },
          "metadata": {
            "tags": []
          },
          "execution_count": 54
        }
      ]
    },
    {
      "cell_type": "code",
      "metadata": {
        "colab": {
          "base_uri": "https://localhost:8080/"
        },
        "id": "vEtcQILroIT0",
        "outputId": "939245ec-6e5a-4419-be9d-d38658476bd3"
      },
      "source": [
        "numbers[[3, 9, 13, 10]]"
      ],
      "execution_count": 57,
      "outputs": [
        {
          "output_type": "execute_result",
          "data": {
            "text/plain": [
              "array([100,  10,  14,  11])"
            ]
          },
          "metadata": {
            "tags": []
          },
          "execution_count": 57
        }
      ]
    },
    {
      "cell_type": "code",
      "metadata": {
        "colab": {
          "base_uri": "https://localhost:8080/"
        },
        "id": "BbJLrvLXoo5Y",
        "outputId": "7c610560-f22e-49b0-e871-e5b1d8911b69"
      },
      "source": [
        "c1 = numbers < 12\n",
        "c1"
      ],
      "execution_count": 63,
      "outputs": [
        {
          "output_type": "execute_result",
          "data": {
            "text/plain": [
              "array([False, False, False, False,  True,  True,  True,  True,  True,\n",
              "        True,  True, False, False, False])"
            ]
          },
          "metadata": {
            "tags": []
          },
          "execution_count": 63
        }
      ]
    },
    {
      "cell_type": "code",
      "metadata": {
        "colab": {
          "base_uri": "https://localhost:8080/"
        },
        "id": "3YXtAS-hovxp",
        "outputId": "80faa18a-ee96-4c89-9721-133d4775f14a"
      },
      "source": [
        "numbers[c1]"
      ],
      "execution_count": 64,
      "outputs": [
        {
          "output_type": "execute_result",
          "data": {
            "text/plain": [
              "array([ 5,  6,  7,  8,  9, 10, 11])"
            ]
          },
          "metadata": {
            "tags": []
          },
          "execution_count": 64
        }
      ]
    },
    {
      "cell_type": "code",
      "metadata": {
        "colab": {
          "base_uri": "https://localhost:8080/"
        },
        "id": "Ye2a47Wyoy3H",
        "outputId": "393317ba-80ee-49bc-a3db-c296a5e42ba2"
      },
      "source": [
        "numbers[numbers < 12]"
      ],
      "execution_count": 65,
      "outputs": [
        {
          "output_type": "execute_result",
          "data": {
            "text/plain": [
              "array([ 5,  6,  7,  8,  9, 10, 11])"
            ]
          },
          "metadata": {
            "tags": []
          },
          "execution_count": 65
        }
      ]
    },
    {
      "cell_type": "code",
      "metadata": {
        "colab": {
          "base_uri": "https://localhost:8080/"
        },
        "id": "E1ogFPVWSLat",
        "outputId": "ecb5424b-93d9-4f11-9547-feed50c6a43b"
      },
      "source": [
        "sample = np.random.randint(1, high=50, size=(6,6), dtype=int)\n",
        "sample"
      ],
      "execution_count": 49,
      "outputs": [
        {
          "output_type": "execute_result",
          "data": {
            "text/plain": [
              "array([[ 2,  9, 27, 22, 25, 11],\n",
              "       [16,  6, 39, 34, 23, 44],\n",
              "       [28, 39, 36, 40, 47, 37],\n",
              "       [ 9,  9, 21, 13, 34,  1],\n",
              "       [22, 15, 19, 42,  8,  3],\n",
              "       [ 2, 13,  6,  8, 28,  2]])"
            ]
          },
          "metadata": {
            "tags": []
          },
          "execution_count": 49
        }
      ]
    },
    {
      "cell_type": "code",
      "metadata": {
        "colab": {
          "base_uri": "https://localhost:8080/"
        },
        "id": "lHbdg7FgnnBg",
        "outputId": "f79b3877-bc39-4b82-dacf-6a69f9952bf2"
      },
      "source": [
        "sample[3:]"
      ],
      "execution_count": 51,
      "outputs": [
        {
          "output_type": "execute_result",
          "data": {
            "text/plain": [
              "array([[ 9,  9, 21, 13, 34,  1],\n",
              "       [22, 15, 19, 42,  8,  3],\n",
              "       [ 2, 13,  6,  8, 28,  2]])"
            ]
          },
          "metadata": {
            "tags": []
          },
          "execution_count": 51
        }
      ]
    },
    {
      "cell_type": "code",
      "metadata": {
        "colab": {
          "base_uri": "https://localhost:8080/"
        },
        "id": "qiGQbJyGnph0",
        "outputId": "e30a3e93-42d5-4ce5-efa6-8de29b1d78dc"
      },
      "source": [
        "sample[:2,:1]"
      ],
      "execution_count": 52,
      "outputs": [
        {
          "output_type": "execute_result",
          "data": {
            "text/plain": [
              "array([[ 2],\n",
              "       [16]])"
            ]
          },
          "metadata": {
            "tags": []
          },
          "execution_count": 52
        }
      ]
    },
    {
      "cell_type": "code",
      "metadata": {
        "colab": {
          "base_uri": "https://localhost:8080/"
        },
        "id": "35MijgAQoQHD",
        "outputId": "d1ad62ce-558e-4717-8c20-c9143e73f0c3"
      },
      "source": [
        "sample[[0,2,4]]"
      ],
      "execution_count": 59,
      "outputs": [
        {
          "output_type": "execute_result",
          "data": {
            "text/plain": [
              "array([[ 2,  9, 27, 22, 25, 11],\n",
              "       [28, 39, 36, 40, 47, 37],\n",
              "       [22, 15, 19, 42,  8,  3]])"
            ]
          },
          "metadata": {
            "tags": []
          },
          "execution_count": 59
        }
      ]
    }
  ]
}