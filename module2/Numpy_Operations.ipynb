{
  "nbformat": 4,
  "nbformat_minor": 0,
  "metadata": {
    "colab": {
      "name": "Numpy-Operations.ipynb",
      "provenance": []
    },
    "kernelspec": {
      "name": "python3",
      "display_name": "Python 3"
    },
    "language_info": {
      "name": "python"
    }
  },
  "cells": [
    {
      "cell_type": "code",
      "metadata": {
        "id": "u-Sn0CZ3flhx"
      },
      "source": [
        "import numpy as np"
      ],
      "execution_count": 1,
      "outputs": []
    },
    {
      "cell_type": "code",
      "metadata": {
        "colab": {
          "base_uri": "https://localhost:8080/"
        },
        "id": "ADSsY17LgESG",
        "outputId": "ff929efe-c539-4648-fab3-fe1f1ee76188"
      },
      "source": [
        "arr = np.arange(1, 10)\n",
        "print(arr+1)\n",
        "print(4-arr)\n",
        "print(arr*arr)"
      ],
      "execution_count": 3,
      "outputs": [
        {
          "output_type": "stream",
          "text": [
            "[ 2  3  4  5  6  7  8  9 10]\n",
            "[ 3  2  1  0 -1 -2 -3 -4 -5]\n",
            "[ 1  4  9 16 25 36 49 64 81]\n"
          ],
          "name": "stdout"
        }
      ]
    },
    {
      "cell_type": "code",
      "metadata": {
        "colab": {
          "base_uri": "https://localhost:8080/"
        },
        "id": "F-XwvC6lgIe6",
        "outputId": "ecd0e70e-7bdb-4895-cebe-c32d0b919bc1"
      },
      "source": [
        "arr2 = arr.reshape(3, 3)\n",
        "arr2"
      ],
      "execution_count": 4,
      "outputs": [
        {
          "output_type": "execute_result",
          "data": {
            "text/plain": [
              "array([[1, 2, 3],\n",
              "       [4, 5, 6],\n",
              "       [7, 8, 9]])"
            ]
          },
          "metadata": {
            "tags": []
          },
          "execution_count": 4
        }
      ]
    },
    {
      "cell_type": "code",
      "metadata": {
        "colab": {
          "base_uri": "https://localhost:8080/"
        },
        "id": "j1RJ6Dw6gNli",
        "outputId": "3636b4d1-12a6-4a54-dcc7-6331dc3cb697"
      },
      "source": [
        "arr2**2"
      ],
      "execution_count": 6,
      "outputs": [
        {
          "output_type": "execute_result",
          "data": {
            "text/plain": [
              "array([[ 1,  4,  9],\n",
              "       [16, 25, 36],\n",
              "       [49, 64, 81]])"
            ]
          },
          "metadata": {
            "tags": []
          },
          "execution_count": 6
        }
      ]
    },
    {
      "cell_type": "code",
      "metadata": {
        "id": "wSGoDP8agQXD"
      },
      "source": [
        "a = np.array([[0, 1, 2],\n",
        "              [0, 2, 4],\n",
        "              [0, 3, 6]])"
      ],
      "execution_count": 7,
      "outputs": []
    },
    {
      "cell_type": "code",
      "metadata": {
        "colab": {
          "base_uri": "https://localhost:8080/"
        },
        "id": "aEZxOjMqhHHZ",
        "outputId": "e5036694-ffaa-42b7-e17f-0df8d1d82bed"
      },
      "source": [
        "np.where(a < 4, a, -1)  # -1 is broadcast"
      ],
      "execution_count": 8,
      "outputs": [
        {
          "output_type": "execute_result",
          "data": {
            "text/plain": [
              "array([[ 0,  1,  2],\n",
              "       [ 0,  2, -1],\n",
              "       [ 0,  3, -1]])"
            ]
          },
          "metadata": {
            "tags": []
          },
          "execution_count": 8
        }
      ]
    },
    {
      "cell_type": "code",
      "metadata": {
        "colab": {
          "base_uri": "https://localhost:8080/"
        },
        "id": "K7bdUho_hHZb",
        "outputId": "2437c246-976a-46ad-8cdb-ebb5af2b8589"
      },
      "source": [
        "base_data = (np.random.random((5, 5)) - 0.5) * 100\n",
        "print(\"base_data = \\n{}\\n\".format(base_data))\n",
        "\n",
        "print(\"np.amin(base_data) = {}\".format(np.amin(base_data)))\n",
        "print(\"np.amax(base_data) = {}\".format(np.amax(base_data)))\n",
        "print(\"np.average(base_data) = {}\".format(np.average(base_data)))\n",
        "print(\"np.sum(base_data) = {}\".format(np.sum(base_data)))\n",
        "print(\"np.sin(base_data) = \\n{}\".format(np.sin(base_data)))"
      ],
      "execution_count": 9,
      "outputs": [
        {
          "output_type": "stream",
          "text": [
            "base_data = \n",
            "[[ -3.04222706 -32.76776332 -18.63087363 -22.93337155 -34.3768823 ]\n",
            " [-23.69651572 -37.66227296 -36.17761673  -2.47979746  33.21423425]\n",
            " [ -4.39767443 -31.35796991  22.59513422   9.19663333 -34.26624199]\n",
            " [  5.85294205 -29.73256255  29.38719732 -33.22001275 -12.43064553]\n",
            " [ 22.07504911 -24.97920288  41.86341902  42.26393828  31.02878108]]\n",
            "\n",
            "np.amin(base_data) = -37.66227296457283\n",
            "np.amax(base_data) = 42.26393827750764\n",
            "np.average(base_data) = -5.786972084547415\n",
            "np.sum(base_data) = -144.67430211368537\n",
            "np.sin(base_data) = \n",
            "[[-0.09920216 -0.97612398  0.21694348  0.80886719 -0.17965614]\n",
            " [ 0.990959    0.03683055  0.99878494 -0.61453405  0.97423073]\n",
            " [ 0.95088478  0.05792418 -0.56792747  0.22617062 -0.28717586]\n",
            " [-0.4170919   0.99367095 -0.89696827 -0.97291111  0.13530877]\n",
            " [-0.08380213  0.1529358  -0.85352557 -0.98913239 -0.37754668]]\n"
          ],
          "name": "stdout"
        }
      ]
    },
    {
      "cell_type": "code",
      "metadata": {
        "colab": {
          "base_uri": "https://localhost:8080/"
        },
        "id": "vbLNyGsnhSBz",
        "outputId": "e64893ae-6a88-466c-e5a1-81dbe5b7afd2"
      },
      "source": [
        "arr = np.arange(1,20)\n",
        "print(\"Original: \", arr)\n",
        "arr = arr * arr              #Multiplies each element by itself \n",
        "print(\"Multpiles: \",arr)\n",
        "arr = arr - arr              #Subtracts each element from itself\n",
        "print(\"Substracts: \",arr)\n",
        "arr = np.arange(1,20)\n",
        "arr = arr + arr              #Adds each element to itself\n",
        "print(\"Add: \",arr)\n",
        "arr = arr / arr              #Divides each element by itself\n",
        "print(\"Divide: \",arr)\n",
        "arr = np.arange(1,20)\n",
        "arr = arr + 50\n",
        "print(\"Add +50: \",arr)"
      ],
      "execution_count": 10,
      "outputs": [
        {
          "output_type": "stream",
          "text": [
            "Original:  [ 1  2  3  4  5  6  7  8  9 10 11 12 13 14 15 16 17 18 19]\n",
            "Multpiles:  [  1   4   9  16  25  36  49  64  81 100 121 144 169 196 225 256 289 324\n",
            " 361]\n",
            "Substracts:  [0 0 0 0 0 0 0 0 0 0 0 0 0 0 0 0 0 0 0]\n",
            "Add:  [ 2  4  6  8 10 12 14 16 18 20 22 24 26 28 30 32 34 36 38]\n",
            "Divide:  [1. 1. 1. 1. 1. 1. 1. 1. 1. 1. 1. 1. 1. 1. 1. 1. 1. 1. 1.]\n",
            "Add +50:  [51 52 53 54 55 56 57 58 59 60 61 62 63 64 65 66 67 68 69]\n"
          ],
          "name": "stdout"
        }
      ]
    },
    {
      "cell_type": "code",
      "metadata": {
        "id": "uKbcJuv0hSTC"
      },
      "source": [
        ""
      ],
      "execution_count": null,
      "outputs": []
    }
  ]
}